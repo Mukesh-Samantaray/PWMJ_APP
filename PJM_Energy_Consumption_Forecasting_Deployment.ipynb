{
 "cells": [
  {
   "cell_type": "markdown",
   "id": "55351074",
   "metadata": {},
   "source": [
    "# PJM Energy Consumption Forecasting and Deployment with Streamlit"
   ]
  },
  {
   "cell_type": "markdown",
   "id": "ea265e93",
   "metadata": {},
   "source": [
    "## Step 1: Import Required Libraries"
   ]
  },
  {
   "cell_type": "code",
   "execution_count": 5,
   "id": "7d5ed1b3",
   "metadata": {},
   "outputs": [],
   "source": [
    "import pandas as pd\n",
    "import numpy as np\n",
    "import matplotlib.pyplot as plt\n",
    "import seaborn as sns\n",
    "\n",
    "from statsmodels.tsa.seasonal import seasonal_decompose\n",
    "from statsmodels.tsa.holtwinters import ExponentialSmoothing\n",
    "\n",
    "from sklearn.metrics import mean_absolute_error, mean_squared_error\n",
    "import pickle"
   ]
  },
  {
   "cell_type": "markdown",
   "id": "0038f24f",
   "metadata": {},
   "source": [
    "## Step 2: Load and Preprocess PJM Data"
   ]
  },
  {
   "cell_type": "code",
   "execution_count": 7,
   "id": "9aac7985",
   "metadata": {},
   "outputs": [
    {
     "name": "stdout",
     "output_type": "stream",
     "text": [
      "                     PJMW_MW\n",
      "Datetime                    \n",
      "2002-04-01 01:00:00   4374.0\n",
      "2002-04-01 02:00:00   4306.0\n",
      "2002-04-01 03:00:00   4322.0\n",
      "2002-04-01 04:00:00   4359.0\n",
      "2002-04-01 05:00:00   4436.0\n"
     ]
    },
    {
     "name": "stderr",
     "output_type": "stream",
     "text": [
      "C:\\Users\\mukes\\AppData\\Local\\Temp\\ipykernel_26876\\1266663433.py:17: FutureWarning: 'H' is deprecated and will be removed in a future version, please use 'h' instead.\n",
      "  df = df.asfreq('H')\n"
     ]
    }
   ],
   "source": [
    "# Load dataset\n",
    "df = pd.read_csv(\"PJMW_hourly.csv\")\n",
    "\n",
    "# Convert to datetime\n",
    "df['Datetime'] = pd.to_datetime(df['Datetime'])\n",
    "\n",
    "# Set Datetime as index\n",
    "df.set_index('Datetime', inplace=True)\n",
    "\n",
    "# Sort index\n",
    "df.sort_index(inplace=True)\n",
    "\n",
    "# Drop duplicates\n",
    "df = df[~df.index.duplicated(keep='first')]\n",
    "\n",
    "# Resample to hourly frequency\n",
    "df = df.asfreq('H')\n",
    "\n",
    "# Visual check\n",
    "print(df.head())\n"
   ]
  },
  {
   "cell_type": "markdown",
   "id": "f41547af",
   "metadata": {},
   "source": [
    "## Step 3: Train-Test Split"
   ]
  },
  {
   "cell_type": "code",
   "execution_count": 9,
   "id": "23f7df46",
   "metadata": {},
   "outputs": [
    {
     "name": "stderr",
     "output_type": "stream",
     "text": [
      "C:\\Users\\mukes\\AppData\\Local\\Temp\\ipykernel_26876\\2057915390.py:2: FutureWarning: DataFrame.fillna with 'method' is deprecated and will raise in a future version. Use obj.ffill() or obj.bfill() instead.\n",
      "  df_ffill = df.fillna(method='ffill')\n"
     ]
    }
   ],
   "source": [
    "# Option 1: Forward fill\n",
    "df_ffill = df.fillna(method='ffill')\n",
    "\n",
    "# Option 2: Time-based interpolation\n",
    "df_interp = df.interpolate(method='time')\n",
    "\n",
    "# Use interpolated for further steps\n",
    "df = df_interp\n"
   ]
  },
  {
   "cell_type": "code",
   "execution_count": 19,
   "id": "406ee937-93f0-46b9-9f2f-8bd2f911dbd2",
   "metadata": {},
   "outputs": [
    {
     "data": {
      "text/html": [
       "<div>\n",
       "<style scoped>\n",
       "    .dataframe tbody tr th:only-of-type {\n",
       "        vertical-align: middle;\n",
       "    }\n",
       "\n",
       "    .dataframe tbody tr th {\n",
       "        vertical-align: top;\n",
       "    }\n",
       "\n",
       "    .dataframe thead th {\n",
       "        text-align: right;\n",
       "    }\n",
       "</style>\n",
       "<table border=\"1\" class=\"dataframe\">\n",
       "  <thead>\n",
       "    <tr style=\"text-align: right;\">\n",
       "      <th></th>\n",
       "      <th>PJMW_MW</th>\n",
       "    </tr>\n",
       "    <tr>\n",
       "      <th>Datetime</th>\n",
       "      <th></th>\n",
       "    </tr>\n",
       "  </thead>\n",
       "  <tbody>\n",
       "    <tr>\n",
       "      <th>2002-04-01 01:00:00</th>\n",
       "      <td>4374.0</td>\n",
       "    </tr>\n",
       "    <tr>\n",
       "      <th>2002-04-01 02:00:00</th>\n",
       "      <td>4306.0</td>\n",
       "    </tr>\n",
       "    <tr>\n",
       "      <th>2002-04-01 03:00:00</th>\n",
       "      <td>4322.0</td>\n",
       "    </tr>\n",
       "    <tr>\n",
       "      <th>2002-04-01 04:00:00</th>\n",
       "      <td>4359.0</td>\n",
       "    </tr>\n",
       "    <tr>\n",
       "      <th>2002-04-01 05:00:00</th>\n",
       "      <td>4436.0</td>\n",
       "    </tr>\n",
       "    <tr>\n",
       "      <th>...</th>\n",
       "      <td>...</td>\n",
       "    </tr>\n",
       "    <tr>\n",
       "      <th>2018-08-02 20:00:00</th>\n",
       "      <td>6545.0</td>\n",
       "    </tr>\n",
       "    <tr>\n",
       "      <th>2018-08-02 21:00:00</th>\n",
       "      <td>6496.0</td>\n",
       "    </tr>\n",
       "    <tr>\n",
       "      <th>2018-08-02 22:00:00</th>\n",
       "      <td>6325.0</td>\n",
       "    </tr>\n",
       "    <tr>\n",
       "      <th>2018-08-02 23:00:00</th>\n",
       "      <td>5892.0</td>\n",
       "    </tr>\n",
       "    <tr>\n",
       "      <th>2018-08-03 00:00:00</th>\n",
       "      <td>5489.0</td>\n",
       "    </tr>\n",
       "  </tbody>\n",
       "</table>\n",
       "<p>143232 rows × 1 columns</p>\n",
       "</div>"
      ],
      "text/plain": [
       "                     PJMW_MW\n",
       "Datetime                    \n",
       "2002-04-01 01:00:00   4374.0\n",
       "2002-04-01 02:00:00   4306.0\n",
       "2002-04-01 03:00:00   4322.0\n",
       "2002-04-01 04:00:00   4359.0\n",
       "2002-04-01 05:00:00   4436.0\n",
       "...                      ...\n",
       "2018-08-02 20:00:00   6545.0\n",
       "2018-08-02 21:00:00   6496.0\n",
       "2018-08-02 22:00:00   6325.0\n",
       "2018-08-02 23:00:00   5892.0\n",
       "2018-08-03 00:00:00   5489.0\n",
       "\n",
       "[143232 rows x 1 columns]"
      ]
     },
     "execution_count": 19,
     "metadata": {},
     "output_type": "execute_result"
    }
   ],
   "source": [
    "df"
   ]
  },
  {
   "cell_type": "code",
   "execution_count": 11,
   "id": "6bb747e9",
   "metadata": {},
   "outputs": [
    {
     "name": "stdout",
     "output_type": "stream",
     "text": [
      "Index freq: h\n",
      "PJMW_MW    float64\n",
      "dtype: object\n",
      "PJMW_MW    0\n",
      "dtype: int64\n",
      "Duplicates: 137871\n"
     ]
    },
    {
     "data": {
      "text/html": [
       "<div>\n",
       "<style scoped>\n",
       "    .dataframe tbody tr th:only-of-type {\n",
       "        vertical-align: middle;\n",
       "    }\n",
       "\n",
       "    .dataframe tbody tr th {\n",
       "        vertical-align: top;\n",
       "    }\n",
       "\n",
       "    .dataframe thead th {\n",
       "        text-align: right;\n",
       "    }\n",
       "</style>\n",
       "<table border=\"1\" class=\"dataframe\">\n",
       "  <thead>\n",
       "    <tr style=\"text-align: right;\">\n",
       "      <th></th>\n",
       "      <th>PJMW_MW</th>\n",
       "    </tr>\n",
       "    <tr>\n",
       "      <th>Datetime</th>\n",
       "      <th></th>\n",
       "    </tr>\n",
       "  </thead>\n",
       "  <tbody>\n",
       "    <tr>\n",
       "      <th>2002-04-01 01:00:00</th>\n",
       "      <td>4374.0</td>\n",
       "    </tr>\n",
       "    <tr>\n",
       "      <th>2002-04-01 02:00:00</th>\n",
       "      <td>4306.0</td>\n",
       "    </tr>\n",
       "    <tr>\n",
       "      <th>2002-04-01 03:00:00</th>\n",
       "      <td>4322.0</td>\n",
       "    </tr>\n",
       "    <tr>\n",
       "      <th>2002-04-01 04:00:00</th>\n",
       "      <td>4359.0</td>\n",
       "    </tr>\n",
       "    <tr>\n",
       "      <th>2002-04-01 05:00:00</th>\n",
       "      <td>4436.0</td>\n",
       "    </tr>\n",
       "    <tr>\n",
       "      <th>...</th>\n",
       "      <td>...</td>\n",
       "    </tr>\n",
       "    <tr>\n",
       "      <th>2018-08-02 20:00:00</th>\n",
       "      <td>6545.0</td>\n",
       "    </tr>\n",
       "    <tr>\n",
       "      <th>2018-08-02 21:00:00</th>\n",
       "      <td>6496.0</td>\n",
       "    </tr>\n",
       "    <tr>\n",
       "      <th>2018-08-02 22:00:00</th>\n",
       "      <td>6325.0</td>\n",
       "    </tr>\n",
       "    <tr>\n",
       "      <th>2018-08-02 23:00:00</th>\n",
       "      <td>5892.0</td>\n",
       "    </tr>\n",
       "    <tr>\n",
       "      <th>2018-08-03 00:00:00</th>\n",
       "      <td>5489.0</td>\n",
       "    </tr>\n",
       "  </tbody>\n",
       "</table>\n",
       "<p>143232 rows × 1 columns</p>\n",
       "</div>"
      ],
      "text/plain": [
       "                     PJMW_MW\n",
       "Datetime                    \n",
       "2002-04-01 01:00:00   4374.0\n",
       "2002-04-01 02:00:00   4306.0\n",
       "2002-04-01 03:00:00   4322.0\n",
       "2002-04-01 04:00:00   4359.0\n",
       "2002-04-01 05:00:00   4436.0\n",
       "...                      ...\n",
       "2018-08-02 20:00:00   6545.0\n",
       "2018-08-02 21:00:00   6496.0\n",
       "2018-08-02 22:00:00   6325.0\n",
       "2018-08-02 23:00:00   5892.0\n",
       "2018-08-03 00:00:00   5489.0\n",
       "\n",
       "[143232 rows x 1 columns]"
      ]
     },
     "execution_count": 11,
     "metadata": {},
     "output_type": "execute_result"
    }
   ],
   "source": [
    "# Confirm frequency and types\n",
    "print(\"Index freq:\", pd.infer_freq(df.index))\n",
    "print(df.dtypes)\n",
    "\n",
    "# Check for nulls again\n",
    "print(df.isnull().sum())\n",
    "\n",
    "# Check for duplicates\n",
    "print(\"Duplicates:\", df.duplicated().sum())\n",
    "df"
   ]
  },
  {
   "cell_type": "code",
   "execution_count": 27,
   "id": "0c6cab94-0a9f-45c6-a2bb-6cddf22df2c8",
   "metadata": {},
   "outputs": [
    {
     "data": {
      "text/html": [
       "<div>\n",
       "<style scoped>\n",
       "    .dataframe tbody tr th:only-of-type {\n",
       "        vertical-align: middle;\n",
       "    }\n",
       "\n",
       "    .dataframe tbody tr th {\n",
       "        vertical-align: top;\n",
       "    }\n",
       "\n",
       "    .dataframe thead th {\n",
       "        text-align: right;\n",
       "    }\n",
       "</style>\n",
       "<table border=\"1\" class=\"dataframe\">\n",
       "  <thead>\n",
       "    <tr style=\"text-align: right;\">\n",
       "      <th></th>\n",
       "      <th>PJMW_MW</th>\n",
       "    </tr>\n",
       "    <tr>\n",
       "      <th>Datetime</th>\n",
       "      <th></th>\n",
       "    </tr>\n",
       "  </thead>\n",
       "  <tbody>\n",
       "    <tr>\n",
       "      <th>2002-04-01 01:00:00</th>\n",
       "      <td>4374.0</td>\n",
       "    </tr>\n",
       "    <tr>\n",
       "      <th>2002-04-01 02:00:00</th>\n",
       "      <td>4306.0</td>\n",
       "    </tr>\n",
       "    <tr>\n",
       "      <th>2002-04-01 03:00:00</th>\n",
       "      <td>4322.0</td>\n",
       "    </tr>\n",
       "    <tr>\n",
       "      <th>2002-04-01 04:00:00</th>\n",
       "      <td>4359.0</td>\n",
       "    </tr>\n",
       "    <tr>\n",
       "      <th>2002-04-01 05:00:00</th>\n",
       "      <td>4436.0</td>\n",
       "    </tr>\n",
       "    <tr>\n",
       "      <th>...</th>\n",
       "      <td>...</td>\n",
       "    </tr>\n",
       "    <tr>\n",
       "      <th>2018-08-02 20:00:00</th>\n",
       "      <td>6545.0</td>\n",
       "    </tr>\n",
       "    <tr>\n",
       "      <th>2018-08-02 21:00:00</th>\n",
       "      <td>6496.0</td>\n",
       "    </tr>\n",
       "    <tr>\n",
       "      <th>2018-08-02 22:00:00</th>\n",
       "      <td>6325.0</td>\n",
       "    </tr>\n",
       "    <tr>\n",
       "      <th>2018-08-02 23:00:00</th>\n",
       "      <td>5892.0</td>\n",
       "    </tr>\n",
       "    <tr>\n",
       "      <th>2018-08-03 00:00:00</th>\n",
       "      <td>5489.0</td>\n",
       "    </tr>\n",
       "  </tbody>\n",
       "</table>\n",
       "<p>143232 rows × 1 columns</p>\n",
       "</div>"
      ],
      "text/plain": [
       "                     PJMW_MW\n",
       "Datetime                    \n",
       "2002-04-01 01:00:00   4374.0\n",
       "2002-04-01 02:00:00   4306.0\n",
       "2002-04-01 03:00:00   4322.0\n",
       "2002-04-01 04:00:00   4359.0\n",
       "2002-04-01 05:00:00   4436.0\n",
       "...                      ...\n",
       "2018-08-02 20:00:00   6545.0\n",
       "2018-08-02 21:00:00   6496.0\n",
       "2018-08-02 22:00:00   6325.0\n",
       "2018-08-02 23:00:00   5892.0\n",
       "2018-08-03 00:00:00   5489.0\n",
       "\n",
       "[143232 rows x 1 columns]"
      ]
     },
     "execution_count": 27,
     "metadata": {},
     "output_type": "execute_result"
    }
   ],
   "source": [
    "# Remove duplicated rows\n",
    "# df = df[~df.index.duplicated(keep='first')]\n",
    "\n",
    "# Optional: reset index if needed\n",
    "df = df.reset_index().drop_duplicates().set_index('Datetime')\n",
    "df\n"
   ]
  },
  {
   "cell_type": "code",
   "execution_count": 31,
   "id": "b419e236-bc3b-45a6-8c38-9f3d290d670c",
   "metadata": {},
   "outputs": [
    {
     "data": {
      "text/html": [
       "<div>\n",
       "<style scoped>\n",
       "    .dataframe tbody tr th:only-of-type {\n",
       "        vertical-align: middle;\n",
       "    }\n",
       "\n",
       "    .dataframe tbody tr th {\n",
       "        vertical-align: top;\n",
       "    }\n",
       "\n",
       "    .dataframe thead th {\n",
       "        text-align: right;\n",
       "    }\n",
       "</style>\n",
       "<table border=\"1\" class=\"dataframe\">\n",
       "  <thead>\n",
       "    <tr style=\"text-align: right;\">\n",
       "      <th></th>\n",
       "      <th>PJMW_MW</th>\n",
       "    </tr>\n",
       "    <tr>\n",
       "      <th>Datetime</th>\n",
       "      <th></th>\n",
       "    </tr>\n",
       "  </thead>\n",
       "  <tbody>\n",
       "    <tr>\n",
       "      <th>2002-04-01 01:00:00</th>\n",
       "      <td>4374.0</td>\n",
       "    </tr>\n",
       "    <tr>\n",
       "      <th>2002-04-01 02:00:00</th>\n",
       "      <td>4306.0</td>\n",
       "    </tr>\n",
       "    <tr>\n",
       "      <th>2002-04-01 03:00:00</th>\n",
       "      <td>4322.0</td>\n",
       "    </tr>\n",
       "    <tr>\n",
       "      <th>2002-04-01 04:00:00</th>\n",
       "      <td>4359.0</td>\n",
       "    </tr>\n",
       "    <tr>\n",
       "      <th>2002-04-01 05:00:00</th>\n",
       "      <td>4436.0</td>\n",
       "    </tr>\n",
       "    <tr>\n",
       "      <th>...</th>\n",
       "      <td>...</td>\n",
       "    </tr>\n",
       "    <tr>\n",
       "      <th>2018-08-02 20:00:00</th>\n",
       "      <td>6545.0</td>\n",
       "    </tr>\n",
       "    <tr>\n",
       "      <th>2018-08-02 21:00:00</th>\n",
       "      <td>6496.0</td>\n",
       "    </tr>\n",
       "    <tr>\n",
       "      <th>2018-08-02 22:00:00</th>\n",
       "      <td>6325.0</td>\n",
       "    </tr>\n",
       "    <tr>\n",
       "      <th>2018-08-02 23:00:00</th>\n",
       "      <td>5892.0</td>\n",
       "    </tr>\n",
       "    <tr>\n",
       "      <th>2018-08-03 00:00:00</th>\n",
       "      <td>5489.0</td>\n",
       "    </tr>\n",
       "  </tbody>\n",
       "</table>\n",
       "<p>143232 rows × 1 columns</p>\n",
       "</div>"
      ],
      "text/plain": [
       "                     PJMW_MW\n",
       "Datetime                    \n",
       "2002-04-01 01:00:00   4374.0\n",
       "2002-04-01 02:00:00   4306.0\n",
       "2002-04-01 03:00:00   4322.0\n",
       "2002-04-01 04:00:00   4359.0\n",
       "2002-04-01 05:00:00   4436.0\n",
       "...                      ...\n",
       "2018-08-02 20:00:00   6545.0\n",
       "2018-08-02 21:00:00   6496.0\n",
       "2018-08-02 22:00:00   6325.0\n",
       "2018-08-02 23:00:00   5892.0\n",
       "2018-08-03 00:00:00   5489.0\n",
       "\n",
       "[143232 rows x 1 columns]"
      ]
     },
     "execution_count": 31,
     "metadata": {},
     "output_type": "execute_result"
    }
   ],
   "source": [
    "df = df[~df.index.duplicated(keep='first')]\n",
    "df"
   ]
  },
  {
   "cell_type": "code",
   "execution_count": 33,
   "id": "76b3ac8c-7fd1-4fb4-9815-ebd217368be2",
   "metadata": {},
   "outputs": [
    {
     "name": "stdout",
     "output_type": "stream",
     "text": [
      "Outliers detected: 298\n"
     ]
    }
   ],
   "source": [
    "from scipy.stats import zscore\n",
    "\n",
    "# Calculate z-scores\n",
    "z_scores = zscore(df['PJMW_MW'])\n",
    "outliers = np.where(np.abs(z_scores) > 3)\n",
    "print(f\"Outliers detected: {len(outliers[0])}\")\n"
   ]
  },
  {
   "cell_type": "code",
   "execution_count": 35,
   "id": "7644211e-a291-42e3-9230-47f22fe12fc4",
   "metadata": {},
   "outputs": [],
   "source": [
    "from scipy import stats\n",
    "import numpy as np\n",
    "\n",
    "# Detect outliers using z-score method\n",
    "z_scores = np.abs(stats.zscore(df['PJMW_MW']))\n",
    "df['is_outlier'] = z_scores > 3\n",
    "\n",
    "# Replace outliers with NaN\n",
    "df.loc[df['is_outlier'], 'PJMW_MW'] = np.nan\n",
    "\n",
    "# Interpolate to fill the outliers (treated as missing)\n",
    "df['PJMW_MW'] = df['PJMW_MW'].interpolate(method='time')\n",
    "\n",
    "# Drop the helper column\n",
    "df.drop(columns='is_outlier', inplace=True)\n"
   ]
  },
  {
   "cell_type": "code",
   "execution_count": 67,
   "id": "de5535fe-fb79-40cc-8562-5a984ad1e09e",
   "metadata": {},
   "outputs": [
    {
     "data": {
      "image/png": "[encoded data removed]",
      "text/plain": [
       "<Figure size 640x480 with 4 Axes>"
      ]
     },
     "metadata": {},
     "output_type": "display_data"
    }
   ],
   "source": [
    "result = seasonal_decompose(df['PJMW_MW'], model='additive', period=24)\n",
    "result.plot()\n",
    "plt.suptitle(\"ETS Decomposition (Daily Seasonality)\", y=1.02)\n",
    "plt.show()\n"
   ]
  },
  {
   "cell_type": "code",
   "execution_count": 41,
   "id": "a3a08cf7-7207-469b-ad79-b1c0f2b86a6b",
   "metadata": {},
   "outputs": [],
   "source": [
    "# Ensure datetime index is sorted\n",
    "df = df.sort_index()\n",
    "\n",
    "# Split the last year as test set\n",
    "train = df.loc[:'2021-12-31']\n",
    "test = df.loc['2022-01-01':]\n"
   ]
  },
  {
   "cell_type": "code",
   "execution_count": 43,
   "id": "715dcdf9-429a-4fa9-9da2-d66d6d67cdb7",
   "metadata": {},
   "outputs": [
    {
     "name": "stderr",
     "output_type": "stream",
     "text": [
      "C:\\Users\\mukes\\anaconda3\\Lib\\site-packages\\statsmodels\\tsa\\base\\tsa_model.py:473: ValueWarning: No frequency information was provided, so inferred frequency h will be used.\n",
      "  self._init_dates(dates, freq)\n",
      "C:\\Users\\mukes\\anaconda3\\Lib\\site-packages\\statsmodels\\tsa\\holtwinters\\model.py:84: RuntimeWarning: overflow encountered in matmul\n",
      "  return err.T @ err\n",
      "C:\\Users\\mukes\\anaconda3\\Lib\\site-packages\\statsmodels\\tsa\\holtwinters\\model.py:918: ConvergenceWarning: Optimization failed to converge. Check mle_retvals.\n",
      "  warnings.warn(\n"
     ]
    }
   ],
   "source": [
    "from statsmodels.tsa.holtwinters import ExponentialSmoothing\n",
    "\n",
    "# Fit model on train data\n",
    "model = ExponentialSmoothing(\n",
    "    train['PJMW_MW'],\n",
    "    trend='add',\n",
    "    seasonal='add',\n",
    "    seasonal_periods=24\n",
    ").fit()\n"
   ]
  },
  {
   "cell_type": "code",
   "execution_count": 51,
   "id": "23ee3125-74b9-44a5-957b-7cdf8c826529",
   "metadata": {},
   "outputs": [],
   "source": [
    "import pandas as pd\n",
    "\n",
    "# Load the data\n",
    "df = pd.read_csv(\"PJMW_hourly.csv\", parse_dates=['Datetime'], index_col='Datetime')\n",
    "\n",
    "# Sort by datetime just in case\n",
    "df = df.sort_index()\n",
    "\n",
    "# Fill missing values if any\n",
    "df = df.interpolate(method='time')\n",
    "\n",
    "# Drop duplicates\n",
    "df = df[~df.index.duplicated(keep='first')]\n"
   ]
  },
  {
   "cell_type": "code",
   "execution_count": 53,
   "id": "7e09fe15-c0b2-4710-9d7b-c427f75f7ed5",
   "metadata": {},
   "outputs": [],
   "source": [
    "data = df['PJMW_MW'].reset_index(drop=True)\n"
   ]
  },
  {
   "cell_type": "code",
   "execution_count": 57,
   "id": "dddccf0e-fb76-4542-ad76-b27a38887460",
   "metadata": {},
   "outputs": [],
   "source": [
    "test_size = 8760\n",
    "train = data[:-test_size]\n",
    "test = data[-test_size:]\n"
   ]
  },
  {
   "cell_type": "code",
   "execution_count": 59,
   "id": "441814ef-887e-4ee3-848f-fc9b72daf6fc",
   "metadata": {},
   "outputs": [],
   "source": [
    "# Forecast same number of points as test\n",
    "forecast = model.forecast(steps=len(test))\n",
    "\n",
    "# Align the forecast index with test index\n",
    "forecast.index = test.index\n"
   ]
  },
  {
   "cell_type": "code",
   "execution_count": 61,
   "id": "f5c9da3c-4abd-42f6-8bf3-b074ea31d312",
   "metadata": {},
   "outputs": [],
   "source": [
    "forecast = model.forecast(len(test))\n"
   ]
  },
  {
   "cell_type": "code",
   "execution_count": 63,
   "id": "162d4152-4a54-483d-9d0c-3ee706842d6e",
   "metadata": {},
   "outputs": [
    {
     "name": "stdout",
     "output_type": "stream",
     "text": [
      "MAE: 821.04\n",
      "RMSE: 1032.62\n"
     ]
    }
   ],
   "source": [
    "from sklearn.metrics import mean_absolute_error, mean_squared_error\n",
    "import numpy as np\n",
    "\n",
    "mae = mean_absolute_error(test, forecast)\n",
    "rmse = np.sqrt(mean_squared_error(test, forecast))\n",
    "\n",
    "print(f\"MAE: {mae:.2f}\")\n",
    "print(f\"RMSE: {rmse:.2f}\")\n"
   ]
  },
  {
   "cell_type": "code",
   "execution_count": 69,
   "id": "136fd32c-51ac-44a8-bde3-6517be40ed33",
   "metadata": {},
   "outputs": [],
   "source": [
    "import pickle\n",
    "\n",
    "with open(\"hw_model.pkl\", \"wb\") as f:\n",
    "    pickle.dump(model, f)\n"
   ]
  },
  {
   "cell_type": "code",
   "execution_count": null,
   "id": "19b4a223-0e85-4f73-9f44-6ced57852034",
   "metadata": {},
   "outputs": [],
   "source": []
  }
 ],
 "metadata": {
  "kernelspec": {
   "display_name": "Python 3 (ipykernel)",
   "language": "python",
   "name": "python3"
  },
  "language_info": {
   "codemirror_mode": {
    "name": "ipython",
    "version": 3
   },
   "file_extension": ".py",
   "mimetype": "text/x-python",
   "name": "python",
   "nbconvert_exporter": "python",
   "pygments_lexer": "ipython3",
   "version": "3.12.4"
  }
 },
 "nbformat": 4,
 "nbformat_minor": 5
}
